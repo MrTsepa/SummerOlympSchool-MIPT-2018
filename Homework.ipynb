{
 "cells": [
  {
   "cell_type": "markdown",
   "metadata": {},
   "source": [
    "# Домашнее задание"
   ]
  },
  {
   "cell_type": "markdown",
   "metadata": {},
   "source": [
    "1. Порешайте задачи по python\n",
    "    - http://pythontutor.ru/lessons/ifelse/problems/minimum/\n",
    "    - http://pythontutor.ru/lessons/ifelse/problems/leap_year/\n",
    "    - http://pythontutor.ru/lessons/for_loop/problems/factorial/\n",
    "    - http://pythontutor.ru/lessons/lists/problems/even_indices/\n",
    "    - чтобы считать число используйте `x = int(input())`, список -- `arr = list(map(int, input().split()))`\n",
    "    - P.S. чтобы проверять решение на тестах, на сайте нужно зарегестрироваться\n",
    "2. Откройте в pandas датасет `datasets/fifa-world-cup/WorldCupMatches.csv`, выполните следующие задания:\n",
    "    - составьте датасет Cups, который будет содержать следующую информацию\n",
    "        - год проведения\n",
    "        - страну победителя\n",
    "        - суммарная посещаемость (attendance)\n",
    "        - сколько голов забила команда победитель\n",
    "        - сколько матчев всего было сыграно\n",
    "        - всего в вашем датасете должно получиться 20 строк\n",
    "    - постройте график посещаемости в зависимости от года\n",
    "    - постройте график посещаемости нормированный на количество матчей\n",
    "    - постройте pie chart того, сколько раз каждая страна становилась победителем (вам пригодится `X.winner.unique_counts()` и `plt.pie()`)"
   ]
  },
  {
   "cell_type": "code",
   "execution_count": 6,
   "metadata": {},
   "outputs": [],
   "source": [
    "import pandas as pd\n",
    "import numpy as np"
   ]
  },
  {
   "cell_type": "code",
   "execution_count": 32,
   "metadata": {},
   "outputs": [],
   "source": [
    "matches = pd.read_csv('datasets/fifa-world-cup/WorldCupMatches.csv').dropna()"
   ]
  },
  {
   "cell_type": "code",
   "execution_count": 36,
   "metadata": {},
   "outputs": [
    {
     "data": {
      "text/plain": [
       "array([1930., 1934., 1938., 1950., 1954., 1958., 1962., 1966., 1970.,\n",
       "       1974., 1978., 1982., 1986., 1990., 1994., 1998., 2002., 2006.,\n",
       "       2010., 2014.])"
      ]
     },
     "execution_count": 36,
     "metadata": {},
     "output_type": "execute_result"
    }
   ],
   "source": [
    "matches.Year.unique()"
   ]
  }
 ],
 "metadata": {
  "kernelspec": {
   "display_name": "Python 3",
   "language": "python",
   "name": "python3"
  },
  "language_info": {
   "codemirror_mode": {
    "name": "ipython",
    "version": 3
   },
   "file_extension": ".py",
   "mimetype": "text/x-python",
   "name": "python",
   "nbconvert_exporter": "python",
   "pygments_lexer": "ipython3",
   "version": "3.6.4"
  }
 },
 "nbformat": 4,
 "nbformat_minor": 2
}
